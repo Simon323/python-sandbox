{
 "cells": [
  {
   "cell_type": "code",
   "execution_count": 25,
   "metadata": {},
   "outputs": [],
   "source": [
    "import pandas as pd\n",
    "\n",
    "df = pd.read_csv(\"./data/budget.csv\", parse_dates=[\"Date\"])"
   ]
  },
  {
   "cell_type": "code",
   "execution_count": null,
   "metadata": {},
   "outputs": [],
   "source": [
    "## Display data\n",
    "df\n",
    "\n",
    "## Display 3 random data rows\n",
    "df.sample(3)\n",
    "\n",
    "## Display first 3 rows\n",
    "df.head(3)\n",
    "\n",
    "## Display last 3 rows\n",
    "df.tail(3)"
   ]
  },
  {
   "cell_type": "code",
   "execution_count": null,
   "metadata": {},
   "outputs": [],
   "source": [
    "## Display unique names\n",
    "df[\"Name\"].unique()"
   ]
  },
  {
   "cell_type": "code",
   "execution_count": null,
   "metadata": {},
   "outputs": [],
   "source": [
    "## Filter data by value\n",
    "df[df[\"Category\"] == \"Rachunki\"]\n",
    "\n",
    "## Filter data by value and take 5 rows\n",
    "df[df[\"Category\"] == \"Rachunki\"].head(5)"
   ]
  },
  {
   "cell_type": "code",
   "execution_count": null,
   "metadata": {},
   "outputs": [],
   "source": [
    "## Filter data by two values in category e.g 'Mieszkanie' or 'Rachunki'\n",
    "# df['Category'].unique()\n",
    "\n",
    "df[(df[\"Category\"] == \"Mieszkanie\") | (df[\"Category\"] == \"Rachunki\")]"
   ]
  },
  {
   "cell_type": "code",
   "execution_count": null,
   "metadata": {},
   "outputs": [],
   "source": [
    "## Filter data by two values in category and name e.g 'Uroda' or 'Adele'\n",
    "# df[\"Category\"].unique()\n",
    "\n",
    "df[(df[\"Category\"] == \"Uroda\") & (df[\"Name\"] == \"Adele\")]"
   ]
  },
  {
   "cell_type": "code",
   "execution_count": 30,
   "metadata": {},
   "outputs": [
    {
     "data": {
      "text/html": [
       "<div>\n",
       "<style scoped>\n",
       "    .dataframe tbody tr th:only-of-type {\n",
       "        vertical-align: middle;\n",
       "    }\n",
       "\n",
       "    .dataframe tbody tr th {\n",
       "        vertical-align: top;\n",
       "    }\n",
       "\n",
       "    .dataframe thead th {\n",
       "        text-align: right;\n",
       "    }\n",
       "</style>\n",
       "<table border=\"1\" class=\"dataframe\">\n",
       "  <thead>\n",
       "    <tr style=\"text-align: right;\">\n",
       "      <th></th>\n",
       "      <th>Kind</th>\n",
       "      <th>Date</th>\n",
       "      <th>Name</th>\n",
       "      <th>Description</th>\n",
       "      <th>Category</th>\n",
       "      <th>Amount</th>\n",
       "    </tr>\n",
       "  </thead>\n",
       "  <tbody>\n",
       "    <tr>\n",
       "      <th>148</th>\n",
       "      <td>Wydatek</td>\n",
       "      <td>2022-05-07</td>\n",
       "      <td>John</td>\n",
       "      <td>Podatek od nieruchomości</td>\n",
       "      <td>Rachunki</td>\n",
       "      <td>500.0</td>\n",
       "    </tr>\n",
       "    <tr>\n",
       "      <th>106</th>\n",
       "      <td>Wydatek</td>\n",
       "      <td>2022-04-07</td>\n",
       "      <td>John</td>\n",
       "      <td>Podatek od nieruchomości</td>\n",
       "      <td>Rachunki</td>\n",
       "      <td>500.0</td>\n",
       "    </tr>\n",
       "    <tr>\n",
       "      <th>30</th>\n",
       "      <td>Wydatek</td>\n",
       "      <td>2022-01-07</td>\n",
       "      <td>John</td>\n",
       "      <td>Podatek od nieruchomości</td>\n",
       "      <td>Rachunki</td>\n",
       "      <td>500.0</td>\n",
       "    </tr>\n",
       "    <tr>\n",
       "      <th>69</th>\n",
       "      <td>Wydatek</td>\n",
       "      <td>2022-02-07</td>\n",
       "      <td>John</td>\n",
       "      <td>Podatek od nieruchomości</td>\n",
       "      <td>Rachunki</td>\n",
       "      <td>500.0</td>\n",
       "    </tr>\n",
       "    <tr>\n",
       "      <th>146</th>\n",
       "      <td>Wydatek</td>\n",
       "      <td>2022-05-05</td>\n",
       "      <td>Sam</td>\n",
       "      <td>Opłata za prąd</td>\n",
       "      <td>Rachunki</td>\n",
       "      <td>100.0</td>\n",
       "    </tr>\n",
       "  </tbody>\n",
       "</table>\n",
       "</div>"
      ],
      "text/plain": [
       "        Kind       Date  Name               Description  Category  Amount\n",
       "148  Wydatek 2022-05-07  John  Podatek od nieruchomości  Rachunki   500.0\n",
       "106  Wydatek 2022-04-07  John  Podatek od nieruchomości  Rachunki   500.0\n",
       "30   Wydatek 2022-01-07  John  Podatek od nieruchomości  Rachunki   500.0\n",
       "69   Wydatek 2022-02-07  John  Podatek od nieruchomości  Rachunki   500.0\n",
       "146  Wydatek 2022-05-05   Sam            Opłata za prąd  Rachunki   100.0"
      ]
     },
     "execution_count": 30,
     "metadata": {},
     "output_type": "execute_result"
    }
   ],
   "source": [
    "## Sort desc filtered values and take 5 rows\n",
    "df[df[\"Category\"] == \"Rachunki\"].sort_values(\"Amount\", ascending=False).head(5)"
   ]
  },
  {
   "cell_type": "code",
   "execution_count": 35,
   "metadata": {},
   "outputs": [
    {
     "data": {
      "text/plain": [
       "42111.0"
      ]
     },
     "execution_count": 35,
     "metadata": {},
     "output_type": "execute_result"
    }
   ],
   "source": [
    "## Add new column with balance\n",
    "df[\"Balance\"] = df.apply(lambda row: row[\"Amount\"] if row[\"Kind\"] == \"Przychód\" else row[\"Amount\"] * -1, axis=1)\n",
    "\n",
    "## Display data\n",
    "df\n",
    "\n",
    "## Dispaly sum\n",
    "df[\"Balance\"].sum()"
   ]
  },
  {
   "cell_type": "code",
   "execution_count": 39,
   "metadata": {},
   "outputs": [
    {
     "data": {
      "text/plain": [
       "Date        Date      \n",
       "2022-12-31  2022-01-31     2120.0\n",
       "            2022-02-28    -5880.0\n",
       "            2022-04-30     -880.0\n",
       "            2022-05-31     -110.0\n",
       "2023-12-31  2023-01-31    13199.0\n",
       "            2023-02-28     6199.0\n",
       "            2023-03-31     6284.0\n",
       "            2023-04-30     6894.5\n",
       "            2023-05-31     6684.5\n",
       "            2023-06-30     7600.0\n",
       "Name: Balance, dtype: float64"
      ]
     },
     "execution_count": 39,
     "metadata": {},
     "output_type": "execute_result"
    }
   ],
   "source": [
    "## Use groupby on Date filed to display sum per year and months\n",
    "df.groupby([pd.Grouper(key=\"Date\", freq=\"Y\"), pd.Grouper(key=\"Date\", freq=\"M\")])[\"Balance\"].sum()"
   ]
  },
  {
   "cell_type": "code",
   "execution_count": 44,
   "metadata": {},
   "outputs": [
    {
     "data": {
      "text/plain": [
       "Year  Month\n",
       "2022  01        2120.0\n",
       "      02       -5880.0\n",
       "      04        -880.0\n",
       "      05        -110.0\n",
       "2023  01       13199.0\n",
       "      02        6199.0\n",
       "      03        6284.0\n",
       "      04        6894.5\n",
       "      05        6684.5\n",
       "      06        7600.0\n",
       "Name: Balance, dtype: float64"
      ]
     },
     "execution_count": 44,
     "metadata": {},
     "output_type": "execute_result"
    }
   ],
   "source": [
    "## Use groupby on new extracted fields Year and Month\n",
    "df[\"Year\"] = df[\"Date\"].dt.strftime(\"%Y\")\n",
    "df[\"Month\"] = df[\"Date\"].dt.strftime(\"%m\")\n",
    "df.groupby([\"Year\", \"Month\"])[\"Balance\"].sum()"
   ]
  }
 ],
 "metadata": {
  "kernelspec": {
   "display_name": "python-sandbox-nqNSiDda",
   "language": "python",
   "name": "python3"
  },
  "language_info": {
   "codemirror_mode": {
    "name": "ipython",
    "version": 3
   },
   "file_extension": ".py",
   "mimetype": "text/x-python",
   "name": "python",
   "nbconvert_exporter": "python",
   "pygments_lexer": "ipython3",
   "version": "3.9.13"
  }
 },
 "nbformat": 4,
 "nbformat_minor": 2
}
